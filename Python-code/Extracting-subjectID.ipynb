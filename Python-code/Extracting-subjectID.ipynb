{
 "cells": [
  {
   "cell_type": "code",
   "execution_count": 20,
   "id": "1e9640e7-dcbf-437e-92f0-460bc0b200f9",
   "metadata": {},
   "outputs": [],
   "source": [
    "#Extract the ID only from the previous output\n",
    "\n",
    "file_path = 'output1.txt'  # Replace with the path to your file\n",
    "output_file = 'output9.txt'  # Replace with the desired output file name\n",
    "\n",
    "# Open the output file in write mode\n",
    "with open(output_file, 'w') as file_out:\n",
    "\n",
    "    # Open and read the file\n",
    "    with open(file_path, 'r') as file:\n",
    "        file_heading = None\n",
    "        subject_ids = []\n",
    "        # Read the file line by line\n",
    "        for line in file:\n",
    "            if line.startswith(\"File:\"):\n",
    "                if file_heading is not None:\n",
    "                    # Write the heading and corresponding subject IDs to the output file\n",
    "                    file_out.write(file_heading + \"\\n\")\n",
    "                    for subject_id in subject_ids:\n",
    "                        file_out.write(subject_id + \"\\n\")\n",
    "                    file_out.write(\"\\n\")  # Add a newline for readability\n",
    "                # Update the file heading\n",
    "                file_heading = line.strip()\n",
    "                subject_ids = []\n",
    "            else:\n",
    "                parts = line.strip().split('\\t')  # Split the line by tab delimiter\n",
    "                if len(parts) >= 2:\n",
    "                    subject_id = parts[1]  # Extract the subject ID\n",
    "                    subject_ids.append(subject_id)\n",
    "\n",
    "        # Write the last heading and corresponding subject IDs to the output file\n",
    "        if file_heading is not None:\n",
    "            file_out.write(file_heading + \"\\n\")\n",
    "            for subject_id in subject_ids:\n",
    "                file_out.write(subject_id + \"\\n\")\n"
   ]
  },
  {
   "cell_type": "code",
   "execution_count": null,
   "id": "32c07d12-4df9-40f5-ab19-0514f92e8e45",
   "metadata": {},
   "outputs": [],
   "source": []
  }
 ],
 "metadata": {
  "kernelspec": {
   "display_name": "Python 3 (ipykernel)",
   "language": "python",
   "name": "python3"
  },
  "language_info": {
   "codemirror_mode": {
    "name": "ipython",
    "version": 3
   },
   "file_extension": ".py",
   "mimetype": "text/x-python",
   "name": "python",
   "nbconvert_exporter": "python",
   "pygments_lexer": "ipython3",
   "version": "3.9.12"
  }
 },
 "nbformat": 4,
 "nbformat_minor": 5
}
