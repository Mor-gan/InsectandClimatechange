{
 "cells": [
  {
   "cell_type": "code",
   "execution_count": 33,
   "id": "76c24d46-f234-4941-ad29-1e51455a306c",
   "metadata": {},
   "outputs": [],
   "source": [
    "#Read through the output_7 file and print out the first 5 best seqence\n",
    "\n",
    "\n",
    "import os\n",
    "\n",
    "folder_path = 'drip_folder'  # Replace with the path to your folder\n",
    "output_file = 'output1.txt'  # Replace with the desired output file name\n",
    "\n",
    "# Get a list of all files in the folder\n",
    "file_list = os.listdir(folder_path)\n",
    "\n",
    "# Open the output file in write mode\n",
    "with open(output_file, 'w') as file_out:\n",
    "\n",
    "    # Iterate over each file in the folder\n",
    "    for file_name in file_list:\n",
    "        file_path = os.path.join(folder_path, file_name)\n",
    "\n",
    "        unique_values = set()  # Create an empty set to store unique values\n",
    "        counter = 0  # Counter to keep track of the number of unique values encountered\n",
    "\n",
    "        # Write the file name to the output file\n",
    "        file_out.write(f\"File: {file_name}\\n\")\n",
    "\n",
    "        # Open and read the file\n",
    "        with open(file_path, 'r') as file:\n",
    "            for line in file:\n",
    "                if line.startswith(\"#\"):  # Ignore lines starting with #\n",
    "                    continue\n",
    "\n",
    "                value = line.strip()\n",
    "                if value not in unique_values:\n",
    "                    unique_values.add(value)\n",
    "                    counter += 1\n",
    "\n",
    "                    file_out.write(value + '\\n')  # Write the unique value to the output file\n",
    "\n",
    "                if counter == 5:  # Break if we have found 5 unique values\n",
    "                    break\n",
    "\n",
    "        # Write a separator line between files in the output\n",
    "        file_out.write('-' * 20 + '\\n')\n"
   ]
  },
  {
   "cell_type": "code",
   "execution_count": null,
   "id": "d7173bd8-f58e-4c99-96a2-979321c2b3a8",
   "metadata": {},
   "outputs": [],
   "source": []
  },
  {
   "cell_type": "code",
   "execution_count": null,
   "id": "6a666e0e-59e4-4747-8e01-c79bfaf3ffe4",
   "metadata": {},
   "outputs": [],
   "source": []
  }
 ],
 "metadata": {
  "kernelspec": {
   "display_name": "Python 3 (ipykernel)",
   "language": "python",
   "name": "python3"
  },
  "language_info": {
   "codemirror_mode": {
    "name": "ipython",
    "version": 3
   },
   "file_extension": ".py",
   "mimetype": "text/x-python",
   "name": "python",
   "nbconvert_exporter": "python",
   "pygments_lexer": "ipython3",
   "version": "3.9.12"
  }
 },
 "nbformat": 4,
 "nbformat_minor": 5
}
