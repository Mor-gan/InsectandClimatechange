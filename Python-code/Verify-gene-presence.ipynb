{
 "cells": [
  {
   "cell_type": "code",
   "execution_count": 22,
   "id": "f557cde6-011c-4a51-9afd-4af80df67246",
   "metadata": {},
   "outputs": [],
   "source": [
    "#Verify that the subject ID of the best sequence is present in the Genome file.\n",
    "\n",
    "genome_file = 'Drosophila_suzukii_Diptera_28584.faa'  # Replace with the path to your genome file\n",
    "output_file = 'matching_sequences.fasta'  # Replace with the desired output file name\n",
    "\n",
    "subject_ids = set()  # Create an empty set to store subject IDs\n",
    "\n",
    "# Read the subject IDs from the output file\n",
    "with open('output.txt', 'r') as file:\n",
    "    for line in file:\n",
    "        line = line.strip()\n",
    "        if line.startswith('ref|'):\n",
    "            subject_id = line.split('|')[1]  # Extract the subject ID\n",
    "            subject_ids.add(subject_id)\n",
    "\n",
    "# Open the genome file and output file\n",
    "with open(genome_file, 'r') as genome, open(output_file, 'w') as output:\n",
    "    write_sequence = False\n",
    "    current_seq_id = \"\"\n",
    "\n",
    "    # Iterate over each line in the genome file\n",
    "    for line in genome:\n",
    "        line = line.strip()\n",
    "\n",
    "        if line.startswith('>'):\n",
    "            seq_id = line[1:]  # Extract the sequence ID\n",
    "            current_seq_id = seq_id.split()[0]  # Extract the sequence ID without additional information\n",
    "            # Check if the sequence ID matches any of the subject IDs\n",
    "            if current_seq_id in subject_ids:\n",
    "                write_sequence = True\n",
    "                output.write(f'>{seq_id}\\n')\n",
    "            else:\n",
    "                write_sequence = False\n",
    "        elif write_sequence:\n",
    "            output.write(line + '\\n')\n"
   ]
  },
  {
   "cell_type": "code",
   "execution_count": null,
   "id": "acc28881-0365-4131-bbf7-e47a75fb2e82",
   "metadata": {},
   "outputs": [],
   "source": []
  }
 ],
 "metadata": {
  "kernelspec": {
   "display_name": "Python 3 (ipykernel)",
   "language": "python",
   "name": "python3"
  },
  "language_info": {
   "codemirror_mode": {
    "name": "ipython",
    "version": 3
   },
   "file_extension": ".py",
   "mimetype": "text/x-python",
   "name": "python",
   "nbconvert_exporter": "python",
   "pygments_lexer": "ipython3",
   "version": "3.9.12"
  }
 },
 "nbformat": 4,
 "nbformat_minor": 5
}
